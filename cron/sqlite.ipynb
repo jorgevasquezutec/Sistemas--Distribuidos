{
 "cells": [
  {
   "cell_type": "code",
   "execution_count": 1,
   "metadata": {},
   "outputs": [],
   "source": [
    "import requests\n",
    "import sqlite3\n",
    "import time"
   ]
  },
  {
   "cell_type": "code",
   "execution_count": 2,
   "metadata": {},
   "outputs": [],
   "source": [
    "base_url = \"https://api.jikan.moe/v4/anime\""
   ]
  },
  {
   "cell_type": "code",
   "execution_count": 2,
   "metadata": {},
   "outputs": [],
   "source": [
    "conn = sqlite3.connect(\"anime_data.db\")\n",
    "cursor = conn.cursor()\n",
    "\n",
    "# Crea una tabla para almacenar los datos si no existe\n",
    "cursor.execute(\"\"\"\n",
    "    CREATE TABLE IF NOT EXISTS animes (\n",
    "        id INTEGER PRIMARY KEY,\n",
    "        title TEXT,\n",
    "        url TEXT\n",
    "    )\n",
    "\"\"\")\n",
    "conn.commit()\n"
   ]
  },
  {
   "cell_type": "code",
   "execution_count": 4,
   "metadata": {},
   "outputs": [],
   "source": [
    "data = [\n",
    "    {\n",
    "        \"id\": 1,\n",
    "        \"title\": \"Naruto\",\n",
    "        \"url\": \"https://api.jikan.moe/v4/anime/1\"\n",
    "    }\n",
    "]\n",
    "conn = sqlite3.connect(\"anime_data.db\")\n",
    "cursor = conn.cursor()\n",
    "#insert on conlict update \n",
    "cursor.executemany(\"\"\"\n",
    "    INSERT INTO animes (id, title, url) VALUES (:id, :title, :url)\n",
    "    ON CONFLICT(id) DO UPDATE SET title=:title, url=:url\n",
    "\"\"\", data)\n",
    "conn.commit()"
   ]
  },
  {
   "cell_type": "code",
   "execution_count": 12,
   "metadata": {},
   "outputs": [],
   "source": [
    "requests_per_minute = 60\n",
    "requests_per_second = 3"
   ]
  },
  {
   "cell_type": "code",
   "execution_count": 13,
   "metadata": {},
   "outputs": [],
   "source": [
    "def fetch_and_store_data(page):\n",
    "    url = f\"{base_url}?page={page}\"\n",
    "    response = requests.get(url)\n",
    "    data = response.json()\n",
    "    animes = []\n",
    "    for item in data[\"data\"]:\n",
    "        obj= {\n",
    "            \"id\": item[\"mal_id\"],\n",
    "            \"title\": item[\"title\"],\n",
    "            \"url\": item[\"url\"]\n",
    "        }\n",
    "        anime_id = item[\"mal_id\"]\n",
    "        title = item[\"title\"]\n",
    "        url = item[\"url\"]\n",
    "        animes.append(obj)\n",
    "\n",
    "        # # Verifica si el anime ya existe en la base de datos\n",
    "        cursor.execute(\"SELECT id FROM animes WHERE id = ?\", (anime_id,))\n",
    "        existing_row = cursor.fetchone()\n",
    "\n",
    "        if not existing_row:\n",
    "            # Inserta el anime en la base de datos si no existe\n",
    "            cursor.execute(\"INSERT INTO animes (id, title,url) VALUES (?, ?, ?)\", (anime_id, title,url))\n",
    "            conn.commit()\n",
    "\n",
    "    return animes\n"
   ]
  },
  {
   "cell_type": "code",
   "execution_count": null,
   "metadata": {},
   "outputs": [],
   "source": [
    "total_pages = 25481 // 25  # Calcula el número total de páginas\n",
    "for page in range(1, total_pages + 1):\n",
    "    data = fetch_and_store_data(page)\n",
    "    \n",
    "    # Calcula el tiempo de espera entre las solicitudes para respetar el límite por segundo\n",
    "    if page % requests_per_second == 0:\n",
    "        time.sleep(1)\n",
    "\n",
    "    # Calcula el tiempo de espera para respetar el límite por minuto\n",
    "    if page % (requests_per_minute // requests_per_second) == 0:\n",
    "        time.sleep(60)\n",
    "\n",
    "# Cierra la conexión a la base de datos\n",
    "conn.close()"
   ]
  }
 ],
 "metadata": {
  "kernelspec": {
   "display_name": "cron",
   "language": "python",
   "name": "python3"
  },
  "language_info": {
   "codemirror_mode": {
    "name": "ipython",
    "version": 3
   },
   "file_extension": ".py",
   "mimetype": "text/x-python",
   "name": "python",
   "nbconvert_exporter": "python",
   "pygments_lexer": "ipython3",
   "version": "3.9.18"
  }
 },
 "nbformat": 4,
 "nbformat_minor": 2
}
