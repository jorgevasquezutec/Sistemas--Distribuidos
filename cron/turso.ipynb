{
 "cells": [
  {
   "cell_type": "code",
   "execution_count": 1,
   "metadata": {},
   "outputs": [],
   "source": [
    "import libsql_client\n",
    "from app.config.settings import api_settings\n",
    "import requests\n",
    "import time"
   ]
  },
  {
   "cell_type": "code",
   "execution_count": 2,
   "metadata": {},
   "outputs": [],
   "source": [
    "cursor = libsql_client.create_client_sync(\n",
    "    url=api_settings.TURSO_API_URL,\n",
    "    auth_token=api_settings.TURSO_API_TOKEN\n",
    ")"
   ]
  },
  {
   "cell_type": "code",
   "execution_count": 3,
   "metadata": {},
   "outputs": [
    {
     "data": {
      "text/plain": [
       "<libsql_client.result.ResultSet at 0x7f7384ff3fc0>"
      ]
     },
     "execution_count": 3,
     "metadata": {},
     "output_type": "execute_result"
    }
   ],
   "source": [
    "cursor.execute(\"\"\"\n",
    "    CREATE TABLE IF NOT EXISTS anime (\n",
    "            id INTEGER PRIMARY KEY,\n",
    "            title TEXT,\n",
    "            url TEXT\n",
    "               )\n",
    "\"\"\")"
   ]
  },
  {
   "cell_type": "code",
   "execution_count": 4,
   "metadata": {},
   "outputs": [],
   "source": [
    "requests_per_minute = 60\n",
    "requests_per_second = 3"
   ]
  },
  {
   "cell_type": "code",
   "execution_count": 5,
   "metadata": {},
   "outputs": [],
   "source": [
    "base_url = \"https://api.jikan.moe/v4/anime\""
   ]
  },
  {
   "cell_type": "code",
   "execution_count": 6,
   "metadata": {},
   "outputs": [],
   "source": [
    "def fetch_and_store_data(page):\n",
    "    url = f\"{base_url}?page={page}\"\n",
    "    response = requests.get(url)\n",
    "    data = response.json()\n",
    "    animes = []\n",
    "    for item in data[\"data\"]:\n",
    "        obj= {\n",
    "            \"id\": item[\"mal_id\"],\n",
    "            \"title\": item[\"title\"],\n",
    "            \"url\": item[\"url\"]\n",
    "        }\n",
    "        anime_id = item[\"mal_id\"]\n",
    "        title = item[\"title\"]\n",
    "        url = item[\"url\"]\n",
    "        animes.append(obj)\n",
    "\n",
    "        # # Verifica si el anime ya existe en la base de datos\n",
    "        rs = cursor.execute(\"SELECT id FROM anime WHERE id = ?\", [anime_id])\n",
    "        # existing_row = cursor.fetchone()\n",
    "        existing_row = len(rs.rows) > 0\n",
    "\n",
    "        if not existing_row:\n",
    "            # Inserta el anime en la base de datos si no existe\n",
    "            cursor.execute(\"INSERT INTO anime (id, title,url) VALUES (:id, :title, :url)\", \n",
    "                           {\n",
    "                                 \"id\": anime_id,\n",
    "                                 \"title\": title,\n",
    "                                 \"url\": url\n",
    "                           })\n",
    "    return animes\n"
   ]
  },
  {
   "cell_type": "code",
   "execution_count": 7,
   "metadata": {},
   "outputs": [],
   "source": [
    "total_pages = 25481 // 25  # Calcula el número total de páginas\n",
    "for page in range(1, total_pages + 1):\n",
    "    data = fetch_and_store_data(page)\n",
    "    \n",
    "    # Calcula el tiempo de espera entre las solicitudes para respetar el límite por segundo\n",
    "    if page % requests_per_second == 0:\n",
    "        time.sleep(1)\n",
    "\n",
    "    # Calcula el tiempo de espera para respetar el límite por minuto\n",
    "    if page % (requests_per_minute // requests_per_second) == 0:\n",
    "        time.sleep(60)\n",
    "\n",
    "# Cierra la conexión a la base de datos\n",
    "cursor.close()"
   ]
  }
 ],
 "metadata": {
  "kernelspec": {
   "display_name": "cron",
   "language": "python",
   "name": "python3"
  },
  "language_info": {
   "codemirror_mode": {
    "name": "ipython",
    "version": 3
   },
   "file_extension": ".py",
   "mimetype": "text/x-python",
   "name": "python",
   "nbconvert_exporter": "python",
   "pygments_lexer": "ipython3",
   "version": "3.9.18"
  }
 },
 "nbformat": 4,
 "nbformat_minor": 2
}
